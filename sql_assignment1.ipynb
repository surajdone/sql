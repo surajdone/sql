{
 "cells": [
  {
   "cell_type": "markdown",
   "id": "327a03e7-5954-4807-935c-c65455827634",
   "metadata": {},
   "source": [
    "Q1. What is a database? Differentiate between SQL and NoSQL databases."
   ]
  },
  {
   "cell_type": "raw",
   "id": "cf375003-7cbe-409d-a1df-5d2d5fce2db8",
   "metadata": {},
   "source": [
    "A database is a structured collection of data that is organized and stored in a way that allows efficient retrieval, management, and manipulation of that data. Databases are used to store and manage information for various applications, ranging from simple data storage to complex data analysis and processing.\n",
    "\n",
    "sql-sql database is a relational database which is arranged in a structural manner in the table and columns"
   ]
  },
  {
   "cell_type": "raw",
   "id": "21127d1f-f150-4ea7-9b78-aaf089d76388",
   "metadata": {},
   "source": [
    "Skip to left side bar\n",
    "\n",
    "\n",
    "\n",
    "\n",
    "Filter files by name\n",
    "\n",
    "\n",
    "Q1. What is a database? Differentiate between SQL and NoSQL databases.\n",
    "\n",
    "sefull to store all type of data\n",
    "A database is a structured collection of data that is organized and stored in a way that allows efficient retrieval, management, and manipulation of that data. Databases are used to store and manage information for various applications, ranging from simple data storage to complex data analysis and processing.\n",
    "​\n",
    "sql-sql database is a relational database which is arranged in a structural manner in the table and columns\n",
    "sql is a structured querry language \n",
    "nosql- no sql is a non relational database which offer more flexiblity than the sql ex-mongo db it is usefull to store all type of data\n",
    "Q2. What is DDL? Explain why CREATE, DROP, ALTER, and TRUNCATE are used with an example.\n",
    "\n",
    "ddl is a data defination language which is a subset of sql is used to define the structure of the sql\n",
    "DDL is a responsible for creating ,modifiying and delketing the sql data\n",
    "​\n",
    "CREATE statement is used to create new database objects, such as tables, indexes, and views.\n",
    "DROP statement is used to remove existing database objects, such as tables, indexes, and views. This action is permanent and irrecoverable.\n",
    "ALTER is used with work with the columns like deleting and creating its just work with columns\n",
    "What is DML? Explain INSERT, UPDATE, and DELETE with an example.\n",
    "\n",
    "DML is a data manupulation language it is a subset of sql it is used to work with the existing databases it work like inserting ,deleting ,updating all of these querry\n",
    "INSERT is used in sql to add new data in existing database like add a row adda column and adding values\n",
    "​\n",
    "DELETING=Deleting is used to delete the  data from the existing database and delete the colums\n",
    "​\n",
    "UPDATE=update is a keyword that used to update the existing table like rename,change datatype and datasize\n",
    "Q4. What is DQL? Explain SELECT with an example.\n",
    "\n",
    "SELECT statement is used to retrieve data from one or more tables in a database. It allows you to specify the columns you want to retrieve, the table from which to retrieve data, and conditions that determine which rows to include in the result set.\n",
    "WHERE: Used to specify conditions for filtering the rows to be retrieved.\n",
    "ORDER BY: Used to sort the result set based on one or more columns.\n",
    "GROUP BY: Used to group rows with similar values in specified columns.\n",
    "HAVING: Used with GROUP BY to filter grouped rows.\n",
    "LIMIT and OFFSET: Used to limit the number of rows returned and skip a certain number of rows.\n",
    "\n",
    "\n",
    "\n",
    "\n",
    "Q5. Explain Primary Key and Foreign Key.\n",
    "\n",
    "A primary key is a unique identifier for each record (row) in a database table. It ensures that each record within the table is uniquely identified and can be used to distinguish one record from another. The primary key enforces data integrity and provides a way to uniquely identify records for retrieval, modification, and deletion.\n",
    "A foreign key establishes a relationship between two tables by referencing the primary key of another table. It creates a link between data in two tables, allowing data to be retrieved and manipulated based on the relationship between the tables. The foreign key represents a column or a set of columns in one table that refers to the primary key in another table.\n",
    "Write a python code to connect MySQL to python. Explain the cursor() and execute() method.\n",
    "\n",
    "mydb = mysql.connector.connect(\n",
    "  host=\"localhost\",\n",
    "  user=\"abc\",\n",
    "  password=\"password\"\n",
    ")\n",
    "print(mydb)\n",
    "mycursor = mydb.cursor()\n",
    "mycursor.execute(\"SHOW DATABASES\")\n",
    "for x in mycursor:\n",
    "  print(x)\n",
    "\n",
    "\n",
    "\n",
    "\n"
   ]
  },
  {
   "cell_type": "code",
   "execution_count": null,
   "id": "03441b21-275f-4596-ad18-75a811916631",
   "metadata": {},
   "outputs": [],
   "source": []
  },
  {
   "cell_type": "code",
   "execution_count": null,
   "id": "a84e5501-14bc-419c-92cf-36990e8b914b",
   "metadata": {},
   "outputs": [],
   "source": []
  },
  {
   "cell_type": "code",
   "execution_count": null,
   "id": "2f75c3c1-d3c5-4b88-9ad6-d10b4508cd3b",
   "metadata": {},
   "outputs": [],
   "source": []
  },
  {
   "cell_type": "code",
   "execution_count": null,
   "id": "72b0787c-072e-466f-9dbc-a848df47dda4",
   "metadata": {},
   "outputs": [],
   "source": []
  },
  {
   "cell_type": "code",
   "execution_count": null,
   "id": "a2a7f3c7-c63a-40db-be58-b8906eaf4f2b",
   "metadata": {},
   "outputs": [],
   "source": [
    "Q7. Give the order of execution of SQL clauses in an SQL query.\n",
    "\n",
    "from\n",
    "joins\n",
    "where\n",
    "groupby \n",
    "having\n",
    "select\n",
    "distingt\n",
    "select\n",
    "limit"
   ]
  }
 ],
 "metadata": {
  "kernelspec": {
   "display_name": "Python 3 (ipykernel)",
   "language": "python",
   "name": "python3"
  },
  "language_info": {
   "codemirror_mode": {
    "name": "ipython",
    "version": 3
   },
   "file_extension": ".py",
   "mimetype": "text/x-python",
   "name": "python",
   "nbconvert_exporter": "python",
   "pygments_lexer": "ipython3",
   "version": "3.10.8"
  }
 },
 "nbformat": 4,
 "nbformat_minor": 5
}
